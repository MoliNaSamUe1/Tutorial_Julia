{
 "cells": [
  {
   "cell_type": "markdown",
   "id": "959e76c6-ca9e-420c-a4ad-f7f8cf83d7ab",
   "metadata": {},
   "source": [
    "# Mostrar datos por consola"
   ]
  },
  {
   "cell_type": "markdown",
   "id": "2f20e2c5-dc71-422c-a95f-f49705df6e14",
   "metadata": {
    "tags": []
   },
   "source": [
    "### Usando la funcion prinln()"
   ]
  },
  {
   "cell_type": "markdown",
   "id": "9f27f096-b5c0-4f20-9179-515632e47713",
   "metadata": {},
   "source": [
    "La funcion `println` nos permitira imprimir por consola una cadena de texto de la siguiente forma:\n",
    "\n",
    "`print(\"texto que quiero imprimir por consola\")`"
   ]
  },
  {
   "cell_type": "code",
   "execution_count": 14,
   "id": "375daf56-bca0-40ea-bfa5-f6b952030e4b",
   "metadata": {
    "tags": []
   },
   "outputs": [
    {
     "name": "stdout",
     "output_type": "stream",
     "text": [
      "Hola mundo\n"
     ]
    }
   ],
   "source": [
    "println(\"Hola mundo\")"
   ]
  },
  {
   "cell_type": "markdown",
   "id": "788bfe12-f020-4563-89d0-c679b4df4191",
   "metadata": {},
   "source": [
    "Tambien con `println` podemos imprimir el valor de alguna variable de la siguiente forma:\n",
    "\n",
    "`print(variable)`"
   ]
  },
  {
   "cell_type": "code",
   "execution_count": 20,
   "id": "b9b6a40e-490e-4a22-8b45-1fe17467180c",
   "metadata": {
    "tags": []
   },
   "outputs": [
    {
     "name": "stdout",
     "output_type": "stream",
     "text": [
      "5\n",
      "2\n",
      "10"
     ]
    }
   ],
   "source": [
    "x = 5\n",
    "y = 2\n",
    "println(x)\n",
    "println(y)"
   ]
  },
  {
   "cell_type": "markdown",
   "id": "3e65d1e8-4dd0-4198-857c-f9e5af71a8a5",
   "metadata": {
    "tags": []
   },
   "source": [
    "Si queremos imprimir varios variables u objetos a la vez, lo podemos hacer mediante la funcion `println` de la siguiente forma:\n",
    "\n",
    "`println(objeto1 , objeto2 , objeto 3)`\n",
    "\n",
    "y podemos agregar tantos objetos, separados por comas como queramos. Ejemplo:"
   ]
  },
  {
   "cell_type": "code",
   "execution_count": 7,
   "id": "fa733725-1288-4af1-bcc4-58991b3adee6",
   "metadata": {},
   "outputs": [
    {
     "name": "stdin",
     "output_type": "stream",
     "text": [
      "stdin>  Alejandro\n",
      "stdin>  Alvarz\n",
      "stdin>  18\n"
     ]
    },
    {
     "name": "stdout",
     "output_type": "stream",
     "text": [
      "Hola Alejandro Alvarz!!\n",
      "Tienes una edad de: 18 Años\n"
     ]
    }
   ],
   "source": [
    "nombre = readline()\n",
    "apellido = readline()\n",
    "edad = readline()\n",
    "println(\"Hola \", nombre, \" \" , apellido , \"!!\")\n",
    "println(\"Tienes una edad de: \", edad , \" Años\")"
   ]
  },
  {
   "cell_type": "markdown",
   "id": "01185526-d8c0-436d-a31f-40c238bcc8c3",
   "metadata": {},
   "source": [
    "## funcion show()"
   ]
  },
  {
   "cell_type": "markdown",
   "id": "7c9b6a68-9c98-4577-92e2-cbc6d2e2dd8b",
   "metadata": {},
   "source": [
    "Tambien podemos mostrar objetos por consola con la funcion `show` de la siguiente forma:\n",
    "\n",
    "`show(objeto)`"
   ]
  },
  {
   "cell_type": "code",
   "execution_count": 11,
   "id": "4bf1c99e-9146-4bbf-8663-14c40c68f7eb",
   "metadata": {
    "tags": []
   },
   "outputs": [
    {
     "name": "stdout",
     "output_type": "stream",
     "text": [
      "\"hola mundo\""
     ]
    }
   ],
   "source": [
    "show(\"hola mundo\")"
   ]
  },
  {
   "cell_type": "markdown",
   "id": "b6667037-e748-47f0-af7b-f42ff840ee48",
   "metadata": {},
   "source": [
    "Como vemos la diferencia que tiene con la funcion println es que show muestra las comillas (\"\") de la cadena de texto mientras que println no lo hace"
   ]
  },
  {
   "cell_type": "code",
   "execution_count": 27,
   "id": "a707c06b-7413-4298-8aa6-5ffb9e624c08",
   "metadata": {
    "tags": []
   },
   "outputs": [
    {
     "name": "stdout",
     "output_type": "stream",
     "text": [
      "Hola mundo\n",
      "\"Hola mundo\""
     ]
    }
   ],
   "source": [
    "println(\"Hola mundo\")\n",
    "show(\"Hola mundo\")"
   ]
  },
  {
   "cell_type": "markdown",
   "id": "6746c76d-849a-46a2-96e0-9ba49a96ca0b",
   "metadata": {},
   "source": [
    "Con show no podemos mostrar varios objetos a la vez como con la funcion println, y ademas **how no deja un salto de linea al final como lo hace println**"
   ]
  },
  {
   "cell_type": "code",
   "execution_count": null,
   "id": "ce637325-c8f8-4d54-9d34-d10d00daa4e2",
   "metadata": {},
   "outputs": [],
   "source": []
  }
 ],
 "metadata": {
  "kernelspec": {
   "display_name": "Julia 1.10.3",
   "language": "julia",
   "name": "julia-1.10"
  },
  "language_info": {
   "file_extension": ".jl",
   "mimetype": "application/julia",
   "name": "julia",
   "version": "1.10.3"
  }
 },
 "nbformat": 4,
 "nbformat_minor": 5
}

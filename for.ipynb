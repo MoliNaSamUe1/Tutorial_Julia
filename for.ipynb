{
 "cells": [
  {
   "cell_type": "markdown",
   "id": "6dd26cfa-7827-4bce-8259-67093e3faf9b",
   "metadata": {},
   "source": [
    "# Ciclos For en Julia\n"
   ]
  },
  {
   "cell_type": "markdown",
   "id": "3e1fc27d-40a8-4218-a46a-3be7d5443991",
   "metadata": {},
   "source": [
    "\n",
    "El ciclo for en Julia se utiliza casi de la misma manera que en python sus diferencias mas notorias son: \n",
    "* No terminaras la sintaxis de apertura en el ciclo con \":\"\n",
    "* Los parametros del rango separan los \":\" \n",
    "* No se utilizan parentesis en el rango \n",
    "* No se usara la palabra reservada range para especificar de donde comienza hasta donde llega el ciclo\n",
    "* Hay que utilizar la palabra reservada end para cerrar el ciclo\n",
    "* El limite del ciclo sera el numero especificado +1, es decir el numero especificado no sera la condicion de cierre\n",
    "* La identacion no es obligatoria pues esta sentenciado por la palabra end \n",
    "\n",
    "\n",
    "La forma de realizarlo seria:\n",
    "for \"variable_a_iterar\"    entrada:salto:cierre\n",
    "\n",
    "* instrucciones\n",
    "\n",
    "* instrucciones\n",
    "\n",
    "* instrucciones\n",
    "\n",
    "end"
   ]
  },
  {
   "cell_type": "markdown",
   "id": "24e94d14-8f58-4c65-a464-c60682444a19",
   "metadata": {
    "tags": []
   },
   "source": [
    "# Ciclo for sin salto "
   ]
  },
  {
   "cell_type": "code",
   "execution_count": 110,
   "id": "79e5eaf6-b9b8-4ff8-80d5-0466d6776393",
   "metadata": {
    "tags": []
   },
   "outputs": [
    {
     "name": "stdout",
     "output_type": "stream",
     "text": [
      "1\n",
      "2\n",
      "3\n",
      "4\n",
      "5\n",
      "6\n",
      "7\n",
      "8\n",
      "9\n",
      "10\n"
     ]
    }
   ],
   "source": [
    "# for basico, commienza en 1 y termina en 10 \n",
    "for i in 1:10\n",
    "    println(i)\n",
    "end\n",
    "#En este caso observamos que no es necesario especificar el salto, pues por defecto sera 1"
   ]
  },
  {
   "cell_type": "markdown",
   "id": "bb2f748e-2b34-4b1d-a2aa-fdad37081e34",
   "metadata": {},
   "source": [
    "# Ciclo for con saltos\n"
   ]
  },
  {
   "cell_type": "code",
   "execution_count": 113,
   "id": "9f8e7e8a-ca96-4075-be28-17a7aa98b5a2",
   "metadata": {
    "tags": []
   },
   "outputs": [
    {
     "name": "stdout",
     "output_type": "stream",
     "text": [
      "0\n",
      "5\n",
      "10\n",
      "15\n",
      "20\n",
      "25\n",
      "30\n",
      "35\n",
      "40\n",
      "45\n",
      "50\n"
     ]
    }
   ],
   "source": [
    "# for con saltos, comienza en 0, con saltos de 5 en 5 hasta llegar a 50\n",
    "for i in 0:5:50\n",
    "    println(i)\n",
    "end"
   ]
  },
  {
   "cell_type": "markdown",
   "id": "db183da6-ccdd-4936-8ed6-9f56b65f5a7a",
   "metadata": {},
   "source": [
    "# Ciclo for regresivo \n",
    "* En este caso la entrada sera el numero mayor, el salto sera negativo y el cierre el numero menor\n",
    "\n",
    "Ejemplo:\n"
   ]
  },
  {
   "cell_type": "code",
   "execution_count": 116,
   "id": "70758fc2-5a23-4504-9a04-6634ee5d16c3",
   "metadata": {
    "tags": []
   },
   "outputs": [
    {
     "name": "stdout",
     "output_type": "stream",
     "text": [
      "10\n",
      "9\n",
      "8\n",
      "7\n",
      "6\n",
      "5\n",
      "4\n",
      "3\n",
      "2\n",
      "1\n",
      "0\n"
     ]
    }
   ],
   "source": [
    "# for regresivo, con salto negativo y entrada/cierre invertido\n",
    "for i in 10:-1:0\n",
    "    println(i)\n",
    "end"
   ]
  },
  {
   "cell_type": "markdown",
   "id": "b34212ee-ebf6-4cf3-aec9-cbdd03c3963a",
   "metadata": {},
   "source": [
    "# Ciclo for anidado\n"
   ]
  },
  {
   "cell_type": "markdown",
   "id": "556fc3d8-d807-4daf-aa41-c651723dc56c",
   "metadata": {
    "tags": []
   },
   "source": [
    "* el ejemplo mas basico para mostrar un for anidado es una matriz\n",
    "\n",
    "Ejemplo:\n"
   ]
  },
  {
   "cell_type": "code",
   "execution_count": 92,
   "id": "96c73922-f56d-4eba-8f3d-24b600e3dbb2",
   "metadata": {
    "tags": []
   },
   "outputs": [
    {
     "name": "stdout",
     "output_type": "stream",
     "text": [
      "1 2 3 \n",
      "4 5 6 \n",
      "7 8 9 \n"
     ]
    }
   ],
   "source": [
    "# Crear una matriz 3x3\n",
    "matriz = [1 2 3; 4 5 6; 7 8 9]\n",
    "\n",
    "# Utilizamos ciclos for anidados para imprimir la matriz\n",
    "for i in 1:3 \n",
    "    for j in 1:3\n",
    "        print(matriz[i, j], \" \" ) # La cadena de caracteres vacia es para separar las columnas \n",
    "    end\n",
    "    println()  # Agregar un salto de línea después de cada fila\n",
    "end"
   ]
  },
  {
   "cell_type": "code",
   "execution_count": null,
   "id": "b76a3679-1cfc-4d19-ad80-2b84a556381b",
   "metadata": {},
   "outputs": [],
   "source": []
  }
 ],
 "metadata": {
  "kernelspec": {
   "display_name": "Julia 1.10.3",
   "language": "julia",
   "name": "julia-1.10"
  },
  "language_info": {
   "file_extension": ".jl",
   "mimetype": "application/julia",
   "name": "julia",
   "version": "1.10.3"
  }
 },
 "nbformat": 4,
 "nbformat_minor": 5
}

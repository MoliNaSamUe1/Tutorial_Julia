{
 "cells": [
  {
   "cell_type": "markdown",
   "id": "a0483492-eb58-4522-b66c-1862a89f1be1",
   "metadata": {},
   "source": [
    "# Ciclos While en Julia"
   ]
  },
  {
   "cell_type": "markdown",
   "id": "30c68d95-25a1-4935-b37b-2bff7efba3e5",
   "metadata": {},
   "source": [
    "El ciclo while se va a ejecutar siempre que se cumpla la condicion que le demos\n",
    "\n",
    "* no necesita identacion debido a que la palabra reservada end termina el ciclo \n",
    "* no es necesario colocar 2 puntos luego de la condicion \n",
    "Su escructura basica es:\n",
    "\n",
    "while condicion\n",
    "\n",
    "* instrucciones\n",
    "\n",
    "* instrucciones\n",
    "\n",
    "* instrucciones\n",
    "\n",
    "end \n",
    "\n",
    "Ejemplo:\n"
   ]
  },
  {
   "cell_type": "code",
   "execution_count": 3,
   "id": "d6f7641e-e7b8-4326-b1a1-7e63ee19183a",
   "metadata": {
    "tags": []
   },
   "outputs": [
    {
     "name": "stdout",
     "output_type": "stream",
     "text": [
      "1\n",
      "2\n",
      "3\n",
      "4\n"
     ]
    }
   ],
   "source": [
    "i = 1\n",
    "while i < 5\n",
    "    println(i)\n",
    "    i += 1\n",
    "end"
   ]
  },
  {
   "cell_type": "markdown",
   "id": "776f437c-f114-47b0-8edb-578cd1ced4f7",
   "metadata": {},
   "source": [
    "* inicializamos una variable como 1\n",
    "* la ingresamos en la condicion del while delimitando que su final sera 5\n",
    "* imprimimos la variable y vamos acumulando la suma para que sea una variable en ascenso\n",
    "* finalizamos el ciclo \n"
   ]
  },
  {
   "cell_type": "markdown",
   "id": "a1ba566a-d06b-4041-b288-680263009997",
   "metadata": {},
   "source": [
    "# Ciclo while infinito\n",
    "\n",
    "Aquel que se ejecuta porque no tiene una condicion de salida, o la tiene pero nunca llegara a cumplirse\n",
    "\n",
    "Ejemplo:\n",
    "\n"
   ]
  },
  {
   "cell_type": "code",
   "execution_count": 1,
   "id": "09daced6-54af-4647-bff7-a8ee27400f44",
   "metadata": {
    "tags": []
   },
   "outputs": [
    {
     "name": "stdout",
     "output_type": "stream",
     "text": [
      "Este es un ciclo while infinito\n"
     ]
    }
   ],
   "source": [
    "while true\n",
    "    println(\"Este es un ciclo while infinito\")\n",
    "    break\n",
    "end"
   ]
  },
  {
   "cell_type": "markdown",
   "id": "eabe84bc-4e03-4728-bd2f-739bf3edae91",
   "metadata": {},
   "source": [
    "* La forma de tener una salida podria ser tanto en la condicion al lado del while, o utilizar la palabra reservada break en la instancia del codigo donde queremos que pare"
   ]
  },
  {
   "cell_type": "markdown",
   "id": "001c567f-e7fa-4f50-8196-32eaa70ca34b",
   "metadata": {},
   "source": [
    "Ejemplo:\n",
    "\n",
    "while true\n",
    "    println(\"Este es un ciclo while infinito\")\n",
    "    break\n",
    "end"
   ]
  },
  {
   "cell_type": "markdown",
   "id": "19d4c784-e312-47bb-8fb4-3370af7655a3",
   "metadata": {},
   "source": [
    "# Ciclo While anidado \n",
    "* Utilizaremos una matriz "
   ]
  },
  {
   "cell_type": "code",
   "execution_count": 47,
   "id": "c0cee5de-0c38-4c30-8bce-6f477426e36f",
   "metadata": {
    "tags": []
   },
   "outputs": [
    {
     "name": "stdout",
     "output_type": "stream",
     "text": [
      "1 2 3  \n",
      "4 5 6  \n",
      "7 8 9  \n"
     ]
    }
   ],
   "source": [
    "# Crear una matriz 3x3\n",
    "matrix = [1 2 3;\n",
    "          4 5 6;\n",
    "          7 8 9]\n",
    "\n",
    "# Recorrer la matriz utilizando ciclos while anidados\n",
    "fil = 1\n",
    "while fil <= 3\n",
    "    col = 1\n",
    "    while col <= 3\n",
    "        print(matrix[fil, col], \" \")\n",
    "        col += 1\n",
    "        \n",
    "    end\n",
    "    println(\" \")\n",
    "    fil += 1\n",
    "end\n"
   ]
  },
  {
   "cell_type": "code",
   "execution_count": null,
   "id": "542d0597-b764-40fb-82cb-eff463af7276",
   "metadata": {},
   "outputs": [],
   "source": []
  }
 ],
 "metadata": {
  "kernelspec": {
   "display_name": "Julia 1.10.3",
   "language": "julia",
   "name": "julia-1.10"
  },
  "language_info": {
   "file_extension": ".jl",
   "mimetype": "application/julia",
   "name": "julia",
   "version": "1.10.3"
  }
 },
 "nbformat": 4,
 "nbformat_minor": 5
}

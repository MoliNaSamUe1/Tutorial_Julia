{
 "cells": [
  {
   "cell_type": "markdown",
   "id": "491a7f4d-51e1-45a2-938e-7aec3554c173",
   "metadata": {},
   "source": [
    "# Peticiones de datos en Julia\n",
    "\n"
   ]
  },
  {
   "cell_type": "markdown",
   "id": "736ff98c-0bb0-4e75-9731-59ccfd452eb6",
   "metadata": {},
   "source": [
    "## Cadenas de texto \n",
    "* Imprimiremos con la funcion println() lo que queramos pedir\n",
    "* Asignamos una variable que su contenido sera la funcion readline() \n",
    "* Imprimimos la variable con la funcion println() y utilizamos el caracter $ para imprimir en conjunto a la variable "
   ]
  },
  {
   "cell_type": "code",
   "execution_count": 62,
   "id": "11a02a2c-0dfe-4c71-8719-4107824b8495",
   "metadata": {
    "tags": []
   },
   "outputs": [
    {
     "name": "stdout",
     "output_type": "stream",
     "text": [
      "Ingrese su nombre: \n"
     ]
    },
    {
     "name": "stdin",
     "output_type": "stream",
     "text": [
      "stdin>  Jose\n"
     ]
    },
    {
     "name": "stdout",
     "output_type": "stream",
     "text": [
      "Ingrese la carrera que cursa: \n"
     ]
    },
    {
     "name": "stdin",
     "output_type": "stream",
     "text": [
      "stdin>  Ing computacion\n"
     ]
    },
    {
     "name": "stdout",
     "output_type": "stream",
     "text": [
      "Hola Jose de Ing computacion\n"
     ]
    }
   ],
   "source": [
    "println(\"Ingrese su nombre: \")\n",
    "nombre = readline()\n",
    "println(\"Ingrese la carrera que cursa: \") \n",
    "carrera = readline()\n",
    "println(\"Hola $nombre de $carrera\")\n"
   ]
  },
  {
   "cell_type": "markdown",
   "id": "672d61f0-f87c-4b6c-bd90-c5af39b8fc61",
   "metadata": {},
   "source": [
    "## Datos numericos\n",
    "* Realizamos exactamente el mismo procedimiento que utilizamos con las cadenas de texto hasta antes de imprimir o utilizar la variable\n",
    "* Transformamos la variable al tipo de dato que necesitamos, ya que readline() por defecto toma todo como cadenas de texto\n",
    "* La funcion a utilizar en este caso es parse(), adentro de ella colocaremos el tipo de dato al que queremos que se transforme seguido de una coma con la variable que queremos trasformar\n",
    "## Ejemplo:"
   ]
  },
  {
   "cell_type": "code",
   "execution_count": 57,
   "id": "799b9e21-a7b8-4545-aee1-ff33faa7f847",
   "metadata": {
    "tags": []
   },
   "outputs": [
    {
     "name": "stdout",
     "output_type": "stream",
     "text": [
      "Ingrese el semestre que va cursando: \n"
     ]
    },
    {
     "name": "stdin",
     "output_type": "stream",
     "text": [
      "stdin>  6\n"
     ]
    },
    {
     "name": "stdout",
     "output_type": "stream",
     "text": [
      "Jose felicidades por llegar al 6 semestre de Ing computacion \n"
     ]
    }
   ],
   "source": [
    "println(\"Ingrese el semestre que va cursando: \")\n",
    "semestre_str = readline()\n",
    "semestre = parse(Int, semestre_str)\n",
    "println(\"$nombre felicidades por llegar al $semestre semestre de $carrera \")"
   ]
  }
 ],
 "metadata": {
  "kernelspec": {
   "display_name": "Julia 1.10.3",
   "language": "julia",
   "name": "julia-1.10"
  },
  "language_info": {
   "file_extension": ".jl",
   "mimetype": "application/julia",
   "name": "julia",
   "version": "1.10.3"
  }
 },
 "nbformat": 4,
 "nbformat_minor": 5
}

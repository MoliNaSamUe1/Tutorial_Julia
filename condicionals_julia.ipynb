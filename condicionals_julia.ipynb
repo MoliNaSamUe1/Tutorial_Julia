{
 "cells": [
  {
   "cell_type": "markdown",
   "id": "d47d978c-9a34-4e7b-93be-5fbc0f73f9c6",
   "metadata": {},
   "source": [
    "# Condicionales"
   ]
  },
  {
   "cell_type": "markdown",
   "id": "9c954766-b439-4805-9126-3c43b2a4846d",
   "metadata": {},
   "source": [
    "Los condicionales son estructras que nos permiten dividir el flujo del programa de manera que solo sea simplemente lineal, sino que dependiendo de si se cumplen ciertas condicions o no, el programa ejecutara ciertas lineas de codigo.\n",
    "\n",
    "Entre los tipos de condicionales tenemos:"
   ]
  },
  {
   "cell_type": "markdown",
   "id": "faf07833-ffe3-484f-b650-0c84559b38fa",
   "metadata": {},
   "source": [
    "### If Simple"
   ]
  },
  {
   "cell_type": "markdown",
   "id": "b065b52a-e85f-4ec4-956d-ed30a742cca4",
   "metadata": {},
   "source": [
    "Estructura:\n",
    "\n",
    "`if condicion     `\n",
    "\n",
    "`   instruccion 1   `\n",
    "\n",
    "`   instruccion 2   `\n",
    "\n",
    "`         .         `\n",
    "\n",
    "`         .         `\n",
    "\n",
    "`         .         `\n",
    "\n",
    "`    instruccion n  `\n",
    "\n",
    "`end`\n",
    "\n",
    "Este es el `if simple`, si la condicion se cumple se ejecutan las instrucciones identadas, de no ser asi no se ejecuta nada, usamos la sentencia `end` para finalizar el condicional"
   ]
  },
  {
   "cell_type": "code",
   "execution_count": 45,
   "id": "a70bd4a5-9673-4af3-9538-2756ab335ef5",
   "metadata": {
    "tags": []
   },
   "outputs": [
    {
     "name": "stdout",
     "output_type": "stream",
     "text": [
      "3 es positivo \n"
     ]
    }
   ],
   "source": [
    "x = 3\n",
    "if x>0\n",
    "    println(x , \" es positivo \")\n",
    "end"
   ]
  },
  {
   "cell_type": "markdown",
   "id": "bb161d22-9bd1-473e-a1c1-fa6e41c437ae",
   "metadata": {},
   "source": [
    "### if else"
   ]
  },
  {
   "cell_type": "markdown",
   "id": "5910fcee-9640-449a-ad80-a31e05a7a46d",
   "metadata": {},
   "source": [
    "Estructura:\n",
    "\n",
    "`if condicion     `\n",
    "\n",
    "`   instruccion 1   `\n",
    "\n",
    "`   instruccion 2   `\n",
    "\n",
    "`         .         `\n",
    "\n",
    "`         .         `\n",
    "\n",
    "`         .         `\n",
    "\n",
    "`   instruccion n   `\n",
    "\n",
    "`else             `\n",
    "\n",
    "`   instrucciones   `\n",
    "\n",
    "`end`\n",
    "\n",
    "Este es el `if else`, funciona de manera similar al if simple, si se cumple la condicion se ejecutan las instrucciones identadas en el if, sino se cumple la condicion se ejecutan las instrucciones anidadas en el else"
   ]
  },
  {
   "cell_type": "code",
   "execution_count": 56,
   "id": "a33bbe06-67c2-4500-9361-287d39746803",
   "metadata": {
    "tags": []
   },
   "outputs": [
    {
     "name": "stdout",
     "output_type": "stream",
     "text": [
      "-3 es negativo"
     ]
    }
   ],
   "source": [
    "x = -3\n",
    "if x>0\n",
    "    println(x , \" es positivo \")\n",
    "else\n",
    "    print(x , \" es negativo\")\n",
    "end"
   ]
  },
  {
   "cell_type": "markdown",
   "id": "34bea13f-d83c-45a7-9658-5036cbef9c18",
   "metadata": {},
   "source": [
    "### if elseif else"
   ]
  },
  {
   "cell_type": "markdown",
   "id": "3e90f33d-eb5c-4299-a65b-d1266d9f8d28",
   "metadata": {},
   "source": [
    "Estructura:\n",
    "\n",
    "`if condicion1     `\n",
    "\n",
    "`    instruccion 1   `\n",
    "\n",
    "`elseif condicion2 `\n",
    "\n",
    "`    instruccion 2   `\n",
    "\n",
    "`elseif condicion3 `\n",
    "\n",
    "`    instruccion 3   `\n",
    "\n",
    "`         .          `\n",
    "\n",
    "`         .          `\n",
    "\n",
    "`         .          `\n",
    "\n",
    "`elseif condicionN `\n",
    "\n",
    "`    instruccion N   `\n",
    "\n",
    "`else              `\n",
    "\n",
    "`    instrucciones   `\n",
    "\n",
    "`end`\n",
    "\n",
    "Este es el `if elseif else`, funciona de manera similar al if simple, si se cumple la condicion se ejecutan las instrucciones identadas en el if, sino se verifica la siguiente condicion y si se cumple se ejecutan las instrucciones identadas en ese `elseif`, y asi sucesivamente hasta encontrar una condicion que se cumpla. Sino se cumple ninguna condicion se ejecutan las instrucciones identadas del `else`\n",
    "\n",
    "Ojo solo se va a ejecutar un solo bloque, por lo cual si se llega a cumplir alguna condicion, las rastantes ya no seran evaluadas"
   ]
  },
  {
   "cell_type": "code",
   "execution_count": 97,
   "id": "b5897f32-bf43-4e93-96e3-41e1678cd2f7",
   "metadata": {
    "tags": []
   },
   "outputs": [
    {
     "name": "stdout",
     "output_type": "stream",
     "text": [
      "0 es cero"
     ]
    }
   ],
   "source": [
    "x = 0\n",
    "if x>0\n",
    "    println(x , \" es positivo \")\n",
    "elseif x<0\n",
    "    print(x , \" es negativo\")\n",
    "else\n",
    "    print(x , \" es cero\")\n",
    "end"
   ]
  },
  {
   "cell_type": "code",
   "execution_count": null,
   "id": "ac9fd41e-45fb-4cb4-9054-3eb1a65b4cde",
   "metadata": {},
   "outputs": [],
   "source": []
  }
 ],
 "metadata": {
  "kernelspec": {
   "display_name": "Julia 1.10.3",
   "language": "julia",
   "name": "julia-1.10"
  },
  "language_info": {
   "file_extension": ".jl",
   "mimetype": "application/julia",
   "name": "julia",
   "version": "1.10.3"
  }
 },
 "nbformat": 4,
 "nbformat_minor": 5
}

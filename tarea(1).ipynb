{
 "cells": [
  {
   "cell_type": "markdown",
   "id": "90d9415c-8e11-4ea1-b5c8-40a5d09aeaef",
   "metadata": {},
   "source": [
    "# Tutorial de Julia"
   ]
  },
  {
   "cell_type": "markdown",
   "id": "be53368c-0e61-4a6c-9070-7f80a44b0cdd",
   "metadata": {},
   "source": [
    "## Sintaxis."
   ]
  },
  {
   "cell_type": "markdown",
   "id": "2a6c101e-25a6-429b-acde-c1a89ad9685f",
   "metadata": {},
   "source": [
    "### variables: "
   ]
  },
  {
   "cell_type": "markdown",
   "id": "2a4dff24-4c07-4a1c-9d7d-769175507755",
   "metadata": {},
   "source": [
    "Los nombres de las variables deben comenzar con una letra (AZ o az), un guión bajo o un subconjunto de puntos de código Unicode mayor que 00A0. Las variables se asignan de una manera muy similar que en otros lenguajes de programación."
   ]
  },
  {
   "cell_type": "markdown",
   "id": "1cc51f75-dff3-429c-87d8-a62e9a690d2c",
   "metadata": {},
   "source": [
    "## Tipos de variables:"
   ]
  },
  {
   "cell_type": "markdown",
   "id": "dbcaa42c-9e12-43e3-8bdf-722fb17d74e0",
   "metadata": {},
   "source": [
    "### Cadenas: \n",
    "Secuencias finitas de caracteres. Se encuentran encerrados en comillas dobles (\"\"). Ejemplos:"
   ]
  },
  {
   "cell_type": "code",
   "execution_count": 6,
   "id": "ec8e67e8-9c5d-434c-aac6-ffe17ef7447c",
   "metadata": {},
   "outputs": [
    {
     "data": {
      "text/plain": [
       "\"Esto es un String en julia\""
      ]
     },
     "execution_count": 6,
     "metadata": {},
     "output_type": "execute_result"
    }
   ],
   "source": [
    "str = \"Esto es un String en julia\""
   ]
  },
  {
   "cell_type": "code",
   "execution_count": 7,
   "id": "0bdfa47b-51b6-4d30-ab32-899914017391",
   "metadata": {},
   "outputs": [
    {
     "data": {
      "text/plain": [
       "\"Esto es una cadena escrita en una sola linea\""
      ]
     },
     "execution_count": 7,
     "metadata": {},
     "output_type": "execute_result"
    }
   ],
   "source": [
    "\"Esto es una cadena \\\n",
    "escrita en una sola linea\""
   ]
  },
  {
   "cell_type": "markdown",
   "id": "7c677bee-4471-4d79-932a-b393373f9969",
   "metadata": {},
   "source": [
    "### Char: \n",
    "Representa un solo caracter. Se encuentra encerrado en comillas simples (''). Ejemplos:"
   ]
  },
  {
   "cell_type": "code",
   "execution_count": 5,
   "id": "0454533f-be96-4c1e-a0d9-4ca5932917d6",
   "metadata": {},
   "outputs": [
    {
     "data": {
      "text/plain": [
       "'C': ASCII/Unicode U+0043 (category Lu: Letter, uppercase)"
      ]
     },
     "execution_count": 5,
     "metadata": {},
     "output_type": "execute_result"
    }
   ],
   "source": [
    "char1 = 'C'"
   ]
  },
  {
   "cell_type": "code",
   "execution_count": 8,
   "id": "0829dcca-5247-4a35-86b8-75845022a6c9",
   "metadata": {},
   "outputs": [
    {
     "data": {
      "text/plain": [
       "'x': ASCII/Unicode U+0078 (category Ll: Letter, lowercase)"
      ]
     },
     "execution_count": 8,
     "metadata": {},
     "output_type": "execute_result"
    }
   ],
   "source": [
    "char2 = 'x'"
   ]
  },
  {
   "cell_type": "markdown",
   "id": "4aa3e434-6281-419a-bccb-9f3534b9e791",
   "metadata": {},
   "source": [
    "### Enteros (int):\n",
    "Las variables enteras pueden declararse y utilizarse de manera muy sencilla. Julia soporta varios tipos de enteros (segun su magnitud), incluyendo Int, Int8, Int16, Int32, Int64, y sus versiones sin signo UInt8, UInt16, UInt32, UInt64. Ejemplos:"
   ]
  },
  {
   "cell_type": "code",
   "execution_count": 1,
   "id": "66dd2c88-ac17-4b08-b84d-411b9f877eee",
   "metadata": {},
   "outputs": [
    {
     "data": {
      "text/plain": [
       "10"
      ]
     },
     "execution_count": 1,
     "metadata": {},
     "output_type": "execute_result"
    }
   ],
   "source": [
    "a = 10  # Julia asigna automáticamente a `a` el tipo `Int` (declaración implícita)"
   ]
  },
  {
   "cell_type": "code",
   "execution_count": 3,
   "id": "80c430f9-81e2-4f9e-8fb8-aa94b2037dcf",
   "metadata": {},
   "outputs": [
    {
     "data": {
      "text/plain": [
       "200"
      ]
     },
     "execution_count": 3,
     "metadata": {},
     "output_type": "execute_result"
    }
   ],
   "source": [
    "c::UInt8 = 200 #Le asignamos el tipo de entero a la variable (declaración explícita)"
   ]
  },
  {
   "cell_type": "markdown",
   "id": "f0ace1a9-6362-49d9-b2e5-3532562a2d31",
   "metadata": {},
   "source": [
    "### Punto flotante (float):\n",
    "Las variables de tipo flotante se utilizan para representar números con decimales o fracciones. Julia soporta varios tipos de datos de punto flotante, entre los que se incluyen Float16, Float32, y Float64. El tipo Float64 es el más comúnmente usado, ya que proporciona una mayor precisión. Ejemplos:"
   ]
  },
  {
   "cell_type": "code",
   "execution_count": 5,
   "id": "703370d9-ecdf-4c77-8cd8-4e241537e55a",
   "metadata": {},
   "outputs": [
    {
     "data": {
      "text/plain": [
       "3.14"
      ]
     },
     "execution_count": 5,
     "metadata": {},
     "output_type": "execute_result"
    }
   ],
   "source": [
    "a = 3.14  # Julia asigna automáticamente el tipo Float64 (declaración implícita)"
   ]
  },
  {
   "cell_type": "code",
   "execution_count": 6,
   "id": "a8d2302e-c04a-4723-92fb-01ef1c5a1fdb",
   "metadata": {},
   "outputs": [
    {
     "data": {
      "text/plain": [
       "2.718"
      ]
     },
     "execution_count": 6,
     "metadata": {},
     "output_type": "execute_result"
    }
   ],
   "source": [
    "b::Float32 = 2.718 #Le asignamos el tipo de float (declaración explícita)"
   ]
  },
  {
   "cell_type": "markdown",
   "id": "a1292a9e-dbc6-4c28-b7be-1486bf9327da",
   "metadata": {},
   "source": [
    "### Booleanas: \n",
    "Las variables booleanas son utilizadas para representar valores de verdad, es decir, verdadero o falso. Los valores booleanos en Julia son true y false."
   ]
  },
  {
   "cell_type": "code",
   "execution_count": 9,
   "id": "ddea5659-202a-416f-ae7f-f61308345df7",
   "metadata": {},
   "outputs": [
    {
     "data": {
      "text/plain": [
       "true"
      ]
     },
     "execution_count": 9,
     "metadata": {},
     "output_type": "execute_result"
    }
   ],
   "source": [
    "a = true  "
   ]
  },
  {
   "cell_type": "code",
   "execution_count": 8,
   "id": "afe7db6e-1f9b-47f3-9c65-0c4555025f44",
   "metadata": {},
   "outputs": [
    {
     "data": {
      "text/plain": [
       "false"
      ]
     },
     "execution_count": 8,
     "metadata": {},
     "output_type": "execute_result"
    }
   ],
   "source": [
    "b = false"
   ]
  },
  {
   "cell_type": "markdown",
   "id": "54e2d279-a155-4fd9-8ff3-94cb055e054e",
   "metadata": {},
   "source": [
    "### Vectores:"
   ]
  },
  {
   "cell_type": "markdown",
   "id": "be1ad594-9824-4769-849f-879d86520e9c",
   "metadata": {},
   "source": [
    "Puedes crear vectores en Julia utilizando corchetes ([]) y separando los elementos con comas. Hay que tener en cuenta que a diferencia de otros lenguajes, el primer elemento de una vector en Julia tiene el indice de [1]."
   ]
  },
  {
   "cell_type": "code",
   "execution_count": 12,
   "id": "67355fe5-9281-4b15-82a3-bb110dc9a49a",
   "metadata": {},
   "outputs": [
    {
     "data": {
      "text/plain": [
       "5-element Vector{Int64}:\n",
       " 1\n",
       " 2\n",
       " 3\n",
       " 4\n",
       " 5"
      ]
     },
     "execution_count": 12,
     "metadata": {},
     "output_type": "execute_result"
    }
   ],
   "source": [
    "# Vector de enteros\n",
    "v1 = [1, 2, 3, 4, 5]"
   ]
  },
  {
   "cell_type": "code",
   "execution_count": 13,
   "id": "2c9d4cd4-0adf-4e3d-a908-c9517bf632c9",
   "metadata": {},
   "outputs": [
    {
     "data": {
      "text/plain": [
       "5-element Vector{Float64}:\n",
       " 1.1\n",
       " 2.2\n",
       " 3.3\n",
       " 4.4\n",
       " 5.5"
      ]
     },
     "execution_count": 13,
     "metadata": {},
     "output_type": "execute_result"
    }
   ],
   "source": [
    "# Vector de flotantes\n",
    "v2 = [1.1, 2.2, 3.3, 4.4, 5.5]"
   ]
  },
  {
   "cell_type": "code",
   "execution_count": 14,
   "id": "0b66cecd-1d59-4bbc-98cc-b552a4fc12cc",
   "metadata": {},
   "outputs": [
    {
     "data": {
      "text/plain": [
       "3-element Vector{String}:\n",
       " \"uno\"\n",
       " \"dos\"\n",
       " \"tres\""
      ]
     },
     "execution_count": 14,
     "metadata": {},
     "output_type": "execute_result"
    }
   ],
   "source": [
    "# Vector de cadenas\n",
    "v3 = [\"uno\", \"dos\", \"tres\"]"
   ]
  },
  {
   "cell_type": "code",
   "execution_count": 15,
   "id": "81ce8b58-db1e-4b0c-9a59-e8e76747aea1",
   "metadata": {},
   "outputs": [
    {
     "data": {
      "text/plain": [
       "3-element Vector{Bool}:\n",
       " 1\n",
       " 0\n",
       " 1"
      ]
     },
     "execution_count": 15,
     "metadata": {},
     "output_type": "execute_result"
    }
   ],
   "source": [
    "# Vector de booleanos\n",
    "v4 = [true, false, true]"
   ]
  },
  {
   "cell_type": "code",
   "execution_count": 16,
   "id": "c48c8588-1b1f-4b8f-b981-1d065d2ec535",
   "metadata": {},
   "outputs": [
    {
     "data": {
      "text/plain": [
       "4-element Vector{Any}:\n",
       "    1\n",
       "    2.2\n",
       "     \"tres\"\n",
       " true"
      ]
     },
     "execution_count": 16,
     "metadata": {},
     "output_type": "execute_result"
    }
   ],
   "source": [
    "# Vector heterogéneo (menos eficiente)\n",
    "v5 = [1, 2.2, \"tres\", true]"
   ]
  },
  {
   "cell_type": "markdown",
   "id": "1b405869-e54f-4461-8f9e-68f8187941f2",
   "metadata": {},
   "source": [
    "### Matrices:"
   ]
  },
  {
   "cell_type": "markdown",
   "id": "a76b9a2c-0833-4a3b-a0ab-bdd68c6b78a2",
   "metadata": {},
   "source": [
    "Las matrices son una extensión natural de los vectores a dos dimensiones. Las matrices se utilizan para representar y operar con datos en filas y columnas. Se puede crear matrices utilizando corchetes ([ ]) y separando las filas por punto y coma (;)."
   ]
  },
  {
   "cell_type": "code",
   "execution_count": 17,
   "id": "feda34f3-cca3-42ad-bf3b-af353bc7c684",
   "metadata": {},
   "outputs": [
    {
     "data": {
      "text/plain": [
       "3×3 Matrix{Int64}:\n",
       " 1  2  3\n",
       " 4  5  6\n",
       " 7  8  9"
      ]
     },
     "execution_count": 17,
     "metadata": {},
     "output_type": "execute_result"
    }
   ],
   "source": [
    "# Crear una matriz de enteros de 3x3\n",
    "matrix1 = [1 2 3; 4 5 6; 7 8 9]"
   ]
  },
  {
   "cell_type": "markdown",
   "id": "9527fc1a-9712-4e34-92f9-fe70a2dbe7ad",
   "metadata": {},
   "source": [
    "Se puede acceder a elementos individuales de una matriz utilizando índices. Los índices en Julia son basados en 1 como ya se mencionó anteriormente."
   ]
  },
  {
   "cell_type": "code",
   "execution_count": 18,
   "id": "b73661bc-8d66-4d12-9d8c-8930a30301c4",
   "metadata": {},
   "outputs": [
    {
     "data": {
      "text/plain": [
       "7"
      ]
     },
     "execution_count": 18,
     "metadata": {},
     "output_type": "execute_result"
    }
   ],
   "source": [
    "matrix1[3, 1]"
   ]
  },
  {
   "cell_type": "markdown",
   "id": "2f93d5f0-acba-4190-80de-c998be9a1a9d",
   "metadata": {},
   "source": [
    "## Principales Operadores en Julia."
   ]
  },
  {
   "cell_type": "markdown",
   "id": "78611c7f-af4c-4085-b948-99ebfc5e353f",
   "metadata": {},
   "source": [
    "### Operdores aritméticos:"
   ]
  },
  {
   "cell_type": "markdown",
   "id": "76177fee-583b-4e84-8541-bf36e6c2aff6",
   "metadata": {},
   "source": [
    "Estos operadores se utilizan para realizar operaciones matemáticas básicas.\n",
    "\n",
    "* +(suma): x + y\n",
    "* -(resta): x - y\n",
    "* *(multiplicación): x * y\n",
    "* /(división): x / y\n",
    "* ÷(división entera): x ÷ y\n",
    "* %(módulo): x % y\n",
    "* ^(potencia): x ^ y"
   ]
  },
  {
   "cell_type": "markdown",
   "id": "1ac39d65-97f6-4f2f-9d56-ca561d6e14ff",
   "metadata": {},
   "source": [
    "### Operadores de Comparación:"
   ]
  },
  {
   "cell_type": "markdown",
   "id": "a2f4822d-f7a0-40ed-a429-77d1beb14ba6",
   "metadata": {},
   "source": [
    "Estos operadores se utilizan para comparar dos valores y su resultado es un valor booleano (true o false)."
   ]
  },
  {
   "cell_type": "markdown",
   "id": "65bdd0f9-36fa-4ee6-a265-cf4ce3d87f1b",
   "metadata": {},
   "source": [
    "* '==' (igual a): x == y\n",
    "* '!=' (diferente de): x != y\n",
    "* '<'(menor que): x < y\n",
    "* '<=' (menor o igual que): x <= y\n",
    "* '>'(mayor que): x > y\n",
    "* '>='(mayor o igual que): x >= y"
   ]
  },
  {
   "cell_type": "markdown",
   "id": "0b48c3a9-40e1-4cd5-9f4c-13b52b335c3c",
   "metadata": {},
   "source": [
    "### Operadores Lógicos:"
   ]
  },
  {
   "cell_type": "markdown",
   "id": "e34912c3-de8a-4e0f-a706-c6404b605d31",
   "metadata": {},
   "source": [
    "Estos operadores se utilizan para realizar operaciones lógicas en valores booleanos."
   ]
  },
  {
   "cell_type": "markdown",
   "id": "de606751-46ec-4e37-81d4-d8a4b02ef7a8",
   "metadata": {},
   "source": [
    "* && (y lógico): x && y\n",
    "* || (o lógico): x || y\n",
    "* ! (no lógico): !x"
   ]
  },
  {
   "cell_type": "markdown",
   "id": "d41e07d5-fde2-40a6-9ba0-5ea327467eba",
   "metadata": {},
   "source": [
    "### Operadores de Asignación:"
   ]
  },
  {
   "cell_type": "markdown",
   "id": "0069f0fc-9207-4ca0-9656-4bcac18a99b1",
   "metadata": {},
   "source": [
    "Estos operadores se utilizan para asignar valores a variables y pueden combinarse con operadores aritméticos.\n",
    "\n",
    "* '='(asignación): x = y\n",
    "* '+='(suma y asignación): x += y\n",
    "* '-='(resta y asignación): x -= y\n",
    "* '*='(multiplicación y asignación): x *= y\n",
    "* '/='(división y asignación): x /= y\n",
    "* '÷='(división entera y asignación): x ÷= y\n",
    "* '%='(módulo y asignación): x %= y\n",
    "* '^='(potencia y asignación): x ^= y"
   ]
  }
 ],
 "metadata": {
  "kernelspec": {
   "display_name": "Julia 1.10.3",
   "language": "julia",
   "name": "julia-1.10"
  },
  "language_info": {
   "file_extension": ".jl",
   "mimetype": "application/julia",
   "name": "julia",
   "version": "1.10.3"
  }
 },
 "nbformat": 4,
 "nbformat_minor": 5
}
